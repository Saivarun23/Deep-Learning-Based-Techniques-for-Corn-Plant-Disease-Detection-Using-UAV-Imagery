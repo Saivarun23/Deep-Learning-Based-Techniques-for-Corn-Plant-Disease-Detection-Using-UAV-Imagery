{
 "cells": [
  {
   "cell_type": "code",
   "execution_count": 1,
   "id": "bda401fc",
   "metadata": {},
   "outputs": [
    {
     "name": "stdout",
     "output_type": "stream",
     "text": [
      "Requirement already satisfied: split-folders in c:\\users\\saivarun\\anaconda3\\lib\\site-packages (0.5.1)Note: you may need to restart the kernel to use updated packages.\n",
      "\n"
     ]
    }
   ],
   "source": [
    "%pip install split-folders"
   ]
  },
  {
   "cell_type": "code",
   "execution_count": 1,
   "id": "27d93f68",
   "metadata": {},
   "outputs": [
    {
     "name": "stderr",
     "output_type": "stream",
     "text": [
      "Copying files: 1445 files [03:53,  6.19 files/s]\n"
     ]
    }
   ],
   "source": [
    "import os\n",
    "import splitfolders\n",
    "\n",
    "input_dir = os.path.abspath(r\"C:\\Users\\SAIVARUN\\OneDrive\\Desktop\\project\\updateddata\\imgdata\")\n",
    "splitfolders.ratio(input_dir, output=\"outdata\", seed=1337, ratio=(.8, .2), group_prefix=None)\n",
    "\n"
   ]
  },
  {
   "cell_type": "code",
   "execution_count": 2,
   "id": "b4212884",
   "metadata": {},
   "outputs": [],
   "source": [
    "import numpy as np\n",
    "from re import sub\n",
    "import tensorflow as tf\n",
    "from tensorflow.keras import metrics\n",
    "\n",
    "import matplotlib.colors as mcolors\n",
    "from sklearn.metrics import confusion_matrix\n",
    "import seaborn as sns\n",
    "\n",
    "from tensorflow.keras.models import Sequential\n",
    "from tensorflow.keras.layers import Dense,GlobalAveragePooling2D\n",
    "from tensorflow.keras.layers import BatchNormalization\n",
    "from tensorflow.keras.layers import Conv2D\n",
    "from tensorflow.keras.layers import MaxPooling2D\n",
    "from tensorflow.keras.layers import Activation, Flatten, Dropout, Dense\n",
    "\n",
    "from tensorflow.keras.models import Model\n",
    "from tensorflow.keras.optimizers import Adam\n",
    "from tensorflow.keras.preprocessing import image\n",
    "\n",
    "import matplotlib.pyplot as plt\n",
    "from tensorflow.keras import models\n",
    "from tensorflow.keras.preprocessing.image import ImageDataGenerator"
   ]
  },
  {
   "cell_type": "code",
   "execution_count": 3,
   "id": "bbfedd94",
   "metadata": {},
   "outputs": [],
   "source": [
    "METRICS = [\n",
    "      metrics.TruePositives(name='tp'),\n",
    "      metrics.FalsePositives(name='fp'),\n",
    "      metrics.TrueNegatives(name='tn'),\n",
    "      metrics.FalseNegatives(name='fn'), \n",
    "      metrics.CategoricalAccuracy(name='accuracy'),\n",
    "      metrics.Precision(name='precision'),\n",
    "      metrics.Recall(name='recall'),\n",
    "      metrics.AUC(name='auc')\n",
    "]"
   ]
  },
  {
   "cell_type": "code",
   "execution_count": 4,
   "id": "07ce536f",
   "metadata": {},
   "outputs": [],
   "source": [
    "BATCH_SIZE = 32\n",
    "IMG_SIZE = (224, 224)\n",
    "IMG_SHAPE = IMG_SIZE + (3,)"
   ]
  },
  {
   "cell_type": "code",
   "execution_count": 5,
   "id": "5cc721c2",
   "metadata": {},
   "outputs": [
    {
     "name": "stdout",
     "output_type": "stream",
     "text": [
      "Found 1286 images belonging to 2 classes.\n",
      "Found 421 images belonging to 2 classes.\n"
     ]
    }
   ],
   "source": [
    "from tensorflow.keras.applications.inception_v3 import preprocess_input\n",
    "\n",
    "train_datagen=ImageDataGenerator(preprocessing_function=preprocess_input)\n",
    "train_generator=train_datagen.flow_from_directory('./outdata/train',\n",
    "                                                 target_size=IMG_SIZE,\n",
    "                                                 color_mode='rgb',\n",
    "                                                 batch_size=BATCH_SIZE,\n",
    "                                                 class_mode='categorical',\n",
    "                                                 shuffle=True)\n",
    "\n",
    "val_datagen=ImageDataGenerator(preprocessing_function=preprocess_input)\n",
    "val_generator=train_datagen.flow_from_directory('./outdata/val',\n",
    "                                                     target_size=IMG_SIZE,\n",
    "                                                 color_mode='rgb',\n",
    "                                                 batch_size=BATCH_SIZE,\n",
    "                                                 class_mode='categorical',\n",
    "                                                 shuffle=True)"
   ]
  },
  {
   "cell_type": "code",
   "execution_count": 6,
   "id": "13351c1e",
   "metadata": {},
   "outputs": [],
   "source": [
    "classes = train_generator.class_indices\n",
    "class_list = list(classes.keys())"
   ]
  },
  {
   "cell_type": "code",
   "execution_count": 67,
   "id": "a1f7ae3f",
   "metadata": {},
   "outputs": [],
   "source": []
  },
  {
   "cell_type": "code",
   "execution_count": 7,
   "id": "df507e6c",
   "metadata": {},
   "outputs": [],
   "source": [
    "import tensorflow as tf\n",
    "from tensorflow.keras.layers import Input, Conv2D, MaxPooling2D, Flatten, Dense, Dropout\n",
    "\n",
    "IMG_SHAPE = (224, 224, 3)\n",
    "\n",
    "inputs = Input(shape=IMG_SHAPE)\n",
    "\n",
    "\n",
    "x = Conv2D(16, (3, 3), activation='relu')(inputs)\n",
    "x = MaxPooling2D((2, 2))(x)\n",
    "x = Dropout(0.66)(x)\n",
    "\n",
    "x = Conv2D(32, (3, 3), activation='relu')(x)\n",
    "x = MaxPooling2D((2, 2))(x)\n",
    "x = Dropout(0.66)(x)\n",
    "\n",
    "x = Flatten()(x)\n",
    "x = Dense(64, activation='relu')(x)\n",
    "x = Dropout(0.80)(x)\n",
    "\n",
    "outputs = Dense(2, activation='softmax')(x)\n",
    "\n",
    "model = tf.keras.Model(inputs=inputs, outputs=outputs)\n"
   ]
  },
  {
   "cell_type": "code",
   "execution_count": 69,
   "id": "a9c6d3a4",
   "metadata": {},
   "outputs": [],
   "source": []
  },
  {
   "cell_type": "code",
   "execution_count": 70,
   "id": "956ab1b5",
   "metadata": {},
   "outputs": [],
   "source": []
  },
  {
   "cell_type": "code",
   "execution_count": 10,
   "id": "ad0f3802",
   "metadata": {},
   "outputs": [],
   "source": [
    "model.compile(optimizer='Nadam',loss='categorical_crossentropy',metrics=METRICS)"
   ]
  },
  {
   "cell_type": "code",
   "execution_count": 11,
   "id": "082cbd1b",
   "metadata": {},
   "outputs": [
    {
     "name": "stdout",
     "output_type": "stream",
     "text": [
      "Epoch 1/4\n",
      "40/40 [==============================] - 354s 9s/step - loss: 0.5741 - tp: 775.0000 - fp: 511.0000 - tn: 775.0000 - fn: 511.0000 - accuracy: 0.6026 - precision: 0.6026 - recall: 0.6026 - auc: 0.6879 - val_loss: 0.6427 - val_tp: 296.0000 - val_fp: 125.0000 - val_tn: 296.0000 - val_fn: 125.0000 - val_accuracy: 0.7031 - val_precision: 0.7031 - val_recall: 0.7031 - val_auc: 0.7831\n",
      "Epoch 2/4\n",
      "40/40 [==============================] - 345s 9s/step - loss: 0.5069 - tp: 767.0000 - fp: 487.0000 - tn: 767.0000 - fn: 487.0000 - accuracy: 0.6116 - precision: 0.6116 - recall: 0.6116 - auc: 0.7270 - val_loss: 0.6299 - val_tp: 296.0000 - val_fp: 125.0000 - val_tn: 296.0000 - val_fn: 125.0000 - val_accuracy: 0.7031 - val_precision: 0.7031 - val_recall: 0.7031 - val_auc: 0.8440\n",
      "Epoch 3/4\n",
      "40/40 [==============================] - 342s 9s/step - loss: 0.4924 - tp: 817.0000 - fp: 437.0000 - tn: 817.0000 - fn: 437.0000 - accuracy: 0.6515 - precision: 0.6515 - recall: 0.6515 - auc: 0.7594 - val_loss: 0.6262 - val_tp: 293.0000 - val_fp: 128.0000 - val_tn: 293.0000 - val_fn: 128.0000 - val_accuracy: 0.6960 - val_precision: 0.6960 - val_recall: 0.6960 - val_auc: 0.7985\n",
      "Epoch 4/4\n",
      "40/40 [==============================] - 330s 8s/step - loss: 0.4871 - tp: 849.0000 - fp: 405.0000 - tn: 849.0000 - fn: 405.0000 - accuracy: 0.6770 - precision: 0.6770 - recall: 0.6770 - auc: 0.7801 - val_loss: 0.5613 - val_tp: 346.0000 - val_fp: 75.0000 - val_tn: 346.0000 - val_fn: 75.0000 - val_accuracy: 0.8219 - val_precision: 0.8219 - val_recall: 0.8219 - val_auc: 0.9465\n"
     ]
    }
   ],
   "source": [
    "step_size_train=train_generator.n//train_generator.batch_size\n",
    "model_history=model.fit(train_generator,\n",
    "                    validation_data =val_generator,\n",
    "                   steps_per_epoch=step_size_train,\n",
    "                   epochs=4)"
   ]
  },
  {
   "cell_type": "code",
   "execution_count": 13,
   "id": "7c71366b",
   "metadata": {},
   "outputs": [
    {
     "name": "stdout",
     "output_type": "stream",
     "text": [
      "{'loss': [0.5740762948989868, 0.506870687007904, 0.49240151047706604, 0.48713743686676025], 'tp': [775.0, 767.0, 817.0, 849.0], 'fp': [511.0, 487.0, 437.0, 405.0], 'tn': [775.0, 767.0, 817.0, 849.0], 'fn': [511.0, 487.0, 437.0, 405.0], 'accuracy': [0.6026438474655151, 0.6116427183151245, 0.6515151262283325, 0.6770334839820862], 'precision': [0.6026438474655151, 0.6116427183151245, 0.6515151262283325, 0.6770334839820862], 'recall': [0.6026438474655151, 0.6116427183151245, 0.6515151262283325, 0.6770334839820862], 'auc': [0.6878920197486877, 0.726991593837738, 0.759432315826416, 0.7800874710083008], 'val_loss': [0.6427368521690369, 0.6299152374267578, 0.6262428760528564, 0.5612768530845642], 'val_tp': [296.0, 296.0, 293.0, 346.0], 'val_fp': [125.0, 125.0, 128.0, 75.0], 'val_tn': [296.0, 296.0, 293.0, 346.0], 'val_fn': [125.0, 125.0, 128.0, 75.0], 'val_accuracy': [0.7030878663063049, 0.7030878663063049, 0.6959620118141174, 0.8218527436256409], 'val_precision': [0.7030878663063049, 0.7030878663063049, 0.6959620118141174, 0.8218527436256409], 'val_recall': [0.7030878663063049, 0.7030878663063049, 0.6959620118141174, 0.8218527436256409], 'val_auc': [0.7831145524978638, 0.8439835906028748, 0.798491895198822, 0.9465332627296448]}\n"
     ]
    }
   ],
   "source": [
    "print(model_history.history)"
   ]
  },
  {
   "cell_type": "code",
   "execution_count": null,
   "id": "d379b849",
   "metadata": {},
   "outputs": [],
   "source": []
  },
  {
   "cell_type": "code",
   "execution_count": 27,
   "id": "87c7902d",
   "metadata": {},
   "outputs": [
    {
     "data": {
      "image/png": "[encoded data removed]",
      "text/plain": [
       "<Figure size 432x288 with 1 Axes>"
      ]
     },
     "metadata": {
      "needs_background": "light"
     },
     "output_type": "display_data"
    },
    {
     "data": {
      "text/plain": [
       "<Figure size 432x288 with 0 Axes>"
      ]
     },
     "metadata": {},
     "output_type": "display_data"
    }
   ],
   "source": [
    "loss = model_history.history['loss']\n",
    "val_loss = model_history.history['val_loss']\n",
    "\n",
    "plt.plot(range(1, len(loss) + 1), loss, label='Training Loss')\n",
    "plt.plot(range(1, len(val_loss) + 1), val_loss, label='Validation Loss')\n",
    "plt.legend(loc='upper right')\n",
    "plt.ylabel('Loss')\n",
    "plt.xlim([1, 4])  \n",
    "plt.ylim([min(plt.ylim()),0.8])\n",
    "plt.title('Training and Validation Loss')\n",
    "plt.xlabel('Epoch')\n",
    "plt.show()\n",
    "plt.savefig(\"model_Loss.png\")"
   ]
  },
  {
   "cell_type": "code",
   "execution_count": 25,
   "id": "593486fb",
   "metadata": {},
   "outputs": [
    {
     "data": {
      "image/png": "[encoded data removed]",
      "text/plain": [
       "<Figure size 432x288 with 1 Axes>"
      ]
     },
     "metadata": {
      "needs_background": "light"
     },
     "output_type": "display_data"
    },
    {
     "data": {
      "text/plain": [
       "<Figure size 432x288 with 0 Axes>"
      ]
     },
     "metadata": {},
     "output_type": "display_data"
    }
   ],
   "source": [
    "acc = model_history.history['accuracy']\n",
    "val_acc = model_history.history['val_accuracy']\n",
    "\n",
    "plt.plot(range(1,len(acc)+1),acc, label='Training Accuracy')\n",
    "plt.plot(range(1,len(val_acc)+1),val_acc, label='Validation Accuracy')\n",
    "plt.legend(loc='lower right')\n",
    "plt.ylabel('Accuracy')\n",
    "plt.xlim([1,4])\n",
    "plt.ylim([0.2,max(plt.ylim())])\n",
    "plt.title('Training and Validation Accuracy')\n",
    "plt.xlabel('Epoch')\n",
    "plt.show()\n",
    "plt.savefig(\"model_Accuracy.png\")\n"
   ]
  },
  {
   "cell_type": "code",
   "execution_count": 39,
   "id": "338ac609",
   "metadata": {},
   "outputs": [
    {
     "data": {
      "image/png": "[encoded data removed]",
      "text/plain": [
       "<Figure size 432x288 with 1 Axes>"
      ]
     },
     "metadata": {
      "needs_background": "light"
     },
     "output_type": "display_data"
    },
    {
     "data": {
      "text/plain": [
       "<Figure size 432x288 with 0 Axes>"
      ]
     },
     "metadata": {},
     "output_type": "display_data"
    }
   ],
   "source": [
    "rec = model_history.history['recall']\n",
    "val_rec = model_history.history['val_recall']\n",
    "\n",
    "plt.plot(rec, label='Training Recall')\n",
    "plt.plot(val_rec, label='Validation Recall')\n",
    "plt.legend(loc='lower right')\n",
    "plt.ylabel(\"Recall\")\n",
    "plt.xlim([0,4])\n",
    "plt.ylim([min(plt.ylim()),1])\n",
    "plt.title('Training and Validation Recall')\n",
    "plt.xlabel('Epoch')\n",
    "plt.show()\n",
    "plt.savefig(\"model_Recall.png\")"
   ]
  },
  {
   "cell_type": "code",
   "execution_count": 19,
   "id": "c76e8775",
   "metadata": {},
   "outputs": [
    {
     "data": {
      "image/png": "[encoded data removed]",
      "text/plain": [
       "<Figure size 432x288 with 1 Axes>"
      ]
     },
     "metadata": {
      "needs_background": "light"
     },
     "output_type": "display_data"
    },
    {
     "data": {
      "text/plain": [
       "<Figure size 432x288 with 0 Axes>"
      ]
     },
     "metadata": {},
     "output_type": "display_data"
    }
   ],
   "source": [
    "auc = model_history.history['auc']\n",
    "val_auc = model_history.history['val_auc']\n",
    "\n",
    "plt.plot(auc, label='Training AUC')\n",
    "plt.plot(val_auc, label='Validation AUC')\n",
    "plt.legend(loc='lower right')\n",
    "plt.ylabel(\"AUC\")\n",
    "plt.xlim([0,4])\n",
    "plt.ylim([min(plt.ylim()),1])\n",
    "plt.title('Training and Validation AUC')\n",
    "plt.xlabel('Epoch')\n",
    "plt.show()\n",
    "plt.savefig(\"model_Auc.png\")"
   ]
  },
  {
   "cell_type": "code",
   "execution_count": 16,
   "id": "7f6c0965",
   "metadata": {},
   "outputs": [
    {
     "name": "stdout",
     "output_type": "stream",
     "text": [
      "14/14 [==============================] - 67s 5s/step\n"
     ]
    },
    {
     "data": {
      "image/png": "[encoded data removed]",
      "text/plain": [
       "<Figure size 576x432 with 2 Axes>"
      ]
     },
     "metadata": {
      "needs_background": "light"
     },
     "output_type": "display_data"
    }
   ],
   "source": [
    "p = model.predict(val_generator)\n",
    "p = np.argmax(p, axis=1)\n",
    "y_true = val_generator.classes\n",
    "c = confusion_matrix(p, y_true)\n",
    "\n",
    "plt.figure(figsize=(8,6))\n",
    "plt.title('Confusion matrix')\n",
    "sns.heatmap(c, annot=True)\n",
    "plt.xlabel('Predicted Classes')\n",
    "plt.ylabel('True Classes')\n",
    "plt.plot()\n",
    "plt.savefig(\"model_Confusion_matrix.png\")"
   ]
  },
  {
   "cell_type": "code",
   "execution_count": 21,
   "id": "260ee056",
   "metadata": {},
   "outputs": [],
   "source": [
    "model.save(\"simplemodel.h5\")"
   ]
  },
  {
   "cell_type": "code",
   "execution_count": null,
   "id": "93292f6a",
   "metadata": {},
   "outputs": [],
   "source": []
  }
 ],
 "metadata": {
  "kernelspec": {
   "display_name": "Python 3 (ipykernel)",
   "language": "python",
   "name": "python3"
  },
  "language_info": {
   "codemirror_mode": {
    "name": "ipython",
    "version": 3
   },
   "file_extension": ".py",
   "mimetype": "text/x-python",
   "name": "python",
   "nbconvert_exporter": "python",
   "pygments_lexer": "ipython3",
   "version": "3.9.12"
  },
  "vscode": {
   "interpreter": {
    "hash": "a0a3886d091b5c9d136e21a953fe1985c7ea10769b3cbdd20d6aebb3b9e8babc"
   }
  }
 },
 "nbformat": 4,
 "nbformat_minor": 5
}
